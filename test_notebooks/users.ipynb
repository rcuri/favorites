{
 "cells": [
  {
   "cell_type": "code",
   "execution_count": 2,
   "metadata": {},
   "outputs": [],
   "source": [
    "import requests\n",
    "import json"
   ]
  },
  {
   "cell_type": "code",
   "execution_count": 1,
   "metadata": {},
   "outputs": [],
   "source": [
    "def sign_up(first_name, last_name, email_address, password):\n",
    "    body = {\n",
    "        \"first_name\": first_name,\n",
    "        \"last_name\": last_name,\n",
    "        \"email\": email_address,\n",
    "        \"password\": password\n",
    "    }\n",
    "    body = json.dumps(body)\n",
    "    url = \"https://fc5j7kdds8.execute-api.us-east-1.amazonaws.com/dev/sign_up\"\n",
    "    r = requests.post(url=url, data=body)\n",
    "    return r"
   ]
  },
  {
   "cell_type": "code",
   "execution_count": 48,
   "metadata": {},
   "outputs": [],
   "source": [
    "response = sign_up(\"Rodrigo\", \"Curiel\", \"rodrigocuriel95@gmail.com\", \"testpassword1\")"
   ]
  },
  {
   "cell_type": "code",
   "execution_count": 49,
   "metadata": {},
   "outputs": [
    {
     "data": {
      "text/plain": [
       "b'{\"message\": \"User successfully signed up.\"}'"
      ]
     },
     "execution_count": 49,
     "metadata": {},
     "output_type": "execute_result"
    }
   ],
   "source": [
    "response.content"
   ]
  },
  {
   "cell_type": "code",
   "execution_count": 56,
   "metadata": {},
   "outputs": [],
   "source": [
    "def sign_in(email_address, password):\n",
    "    body = {\n",
    "        \"username\": email_address,\n",
    "        \"password\": password\n",
    "    }\n",
    "    body = json.dumps(body)\n",
    "    url = \"https://fc5j7kdds8.execute-api.us-east-1.amazonaws.com/dev/sign_in\"\n",
    "    r = requests.post(url=url, data=body)\n",
    "    return r\n"
   ]
  },
  {
   "cell_type": "code",
   "execution_count": 55,
   "metadata": {},
   "outputs": [],
   "source": [
    "def confirm_email_address(email_address, confirmation_code):\n",
    "    body = {\n",
    "        \"email\": email_address,\n",
    "        \"confirmation_code\": confirmation_code\n",
    "    }\n",
    "    body = json.dumps(body)\n",
    "    url = \"https://fc5j7kdds8.execute-api.us-east-1.amazonaws.com/dev/confirm_email_address\"\n",
    "    r = requests.post(url=url, data=body)\n",
    "    return r"
   ]
  },
  {
   "cell_type": "code",
   "execution_count": 50,
   "metadata": {},
   "outputs": [],
   "source": [
    "confirmed = confirm_email_address(\"rodrigocuriel95@gmail.com\", \"103042\")"
   ]
  },
  {
   "cell_type": "code",
   "execution_count": 51,
   "metadata": {},
   "outputs": [
    {
     "data": {
      "text/plain": [
       "{'message': 'Email address was successfully verified.'}"
      ]
     },
     "execution_count": 51,
     "metadata": {},
     "output_type": "execute_result"
    }
   ],
   "source": [
    "confirmed.json()"
   ]
  },
  {
   "cell_type": "code",
   "execution_count": 57,
   "metadata": {},
   "outputs": [],
   "source": [
    "signed_in = sign_in(\"rodrigocuriel95@gmail.com\", \"testpassword1\")"
   ]
  },
  {
   "cell_type": "code",
   "execution_count": 58,
   "metadata": {},
   "outputs": [
    {
     "data": {
      "text/plain": [
       "{'message': 'User has been successfully authenticated',\n",
       " 'auth_results': {'id_token': 'eyJraWQiOiJRRnQ1dlU2a2lxWmRVWm5iaWp5UG5vWVVta2pcL0lDYVF1ZW1UbURMYXpLQT0iLCJhbGciOiJSUzI1NiJ9.eyJzdWIiOiI2NjMxZTAwYy0xYTRhLTQ3NzktOTcyZi1mOGI2MjI4ZDYzMjgiLCJjb2duaXRvOmdyb3VwcyI6WyJkZXYtdXNlcnMtY29uZmlybWVkLXVzZXItZ3JvdXAiLCJkZXYtdXNlcnMtdmVyaWZpY2F0aW9uLXBlbmRpbmctZ3JvdXAiXSwiZW1haWxfdmVyaWZpZWQiOnRydWUsImlzcyI6Imh0dHBzOlwvXC9jb2duaXRvLWlkcC51cy1lYXN0LTEuYW1hem9uYXdzLmNvbVwvdXMtZWFzdC0xXzVTeHpHOFFtWiIsImNvZ25pdG86dXNlcm5hbWUiOiI2NjMxZTAwYy0xYTRhLTQ3NzktOTcyZi1mOGI2MjI4ZDYzMjgiLCJvcmlnaW5fanRpIjoiNWNkYjI5YzQtOWFmMi00NDFhLWFjYzAtZWU1YmVlM2U5MGY3IiwiY29nbml0bzpyb2xlcyI6WyJhcm46YXdzOmlhbTo6Nzg5MjE0NTMyNzYwOnJvbGVcL2Rldi11c2Vycy12ZXJpZmljYXRpb24tcGVuZGluZy1yb2xlIl0sImF1ZCI6IjdiZ2ZkYWltazZraDd2NTByam1mbmtqMnVpIiwiY3VzdG9tOmxhc3RfbmFtZSI6IkN1cmllbCIsImV2ZW50X2lkIjoiNmM1NDY3YzEtNGUxZS00NGU3LWI0MGUtZjliMmRhYmNiZGVjIiwiY3VzdG9tOmZpcnN0X25hbWUiOiJSb2RyaWdvIiwidG9rZW5fdXNlIjoiaWQiLCJhdXRoX3RpbWUiOjE2NTk0MDE3MjQsImV4cCI6MTY1OTQwNTMyNCwiaWF0IjoxNjU5NDAxNzI0LCJqdGkiOiI1NzZiZWYzMi0xNDA0LTQyNzQtYTA1Ny1lMDBjZGQ3OTQ5OTciLCJlbWFpbCI6InJvZHJpZ29jdXJpZWw5NUBnbWFpbC5jb20ifQ.MrO9nnOZ43_E-qvCNyXRn99B_0UhlVJTaFy8mCXf9U-ApdZ1SKWIYBARu6wU3cr7yfbYnOSqtV6j6dlb13LcgldVoHVK4WQzg6QubV4hO97CaUCX5DdGmTGOLGQmbUC6MpEm2nctw08Hq7sRhjA6nm5TR3N4gXvZMR6oEK7jwTfVjb1tasuPwIpctF7hJNXxIYIfSQuehwUXHIE8WaBCyFExQ_cqYZyR6Qd5de1MZiEUVgGy6TilYGT_AKelVpDb7x7Q6TkNhI67yx6NgmpXh6Q_cVu4emk67FslB-aXucHd_eaRCQvknOKhxUTclZDKcCnArvmlRuyQmpJoijtbSg',\n",
       "  'refresh_token': 'eyJjdHkiOiJKV1QiLCJlbmMiOiJBMjU2R0NNIiwiYWxnIjoiUlNBLU9BRVAifQ.kpeUaj76vuljAlNp27AVrakfgDUToXCj6Ely91gz64_tn6RetIuax3EbINLDBsEthOtn2gnLi631rA4UtccHC7ACShBzvMwMfSkrWOzAhjQAhJRfEcq_cjBiPIzRs2WIvM7eHuSQioL-3iJDEEA4wsIUnyu4q8Vwn-9O_kXoasoV90JJg3K3M5QlWqfbIHGot7Xbl9A_xBgUgINDa4BlhuRUERHqpGSNwCx_PtaXpj2RPvbji6FccIxFbIRG2u4CpHgJlfDAIMVJdhaPYkwOVpM84ggqiHx65xqE-TEUKYmXVLyqW-n2pPzc_BepkOJHbB5RJGdl-jZCCfOOVMKsfg.3dHs_vRRQW20KIEl.lCmwFVpRXwcsh1_MviQ8aOcsJJbHCYI_lkosCXUvnkJZRIZq_iJH8q09mro80R09_K3LH0NL8ANPDHox-apFQmAlLRZlbuXZs7WXH1FcbM738X0lGhMh3oC63VZAn-MSiBJMnRmr7evrY7nBEvjQYYppt1hRXVV9cpfchy5k-GaZi_U2c-fQuH1VAWoMlabaLfrVYQ3xjFDgyfxdVhag9CW9oq4jiV6RuDr_cM7SqW70_yd4dhZPQDPMPrJHKiVwjyqUfJKsgTb4Kjp4_fSgXOm3XmugPvElkDEH8fB2cJc_ZtaOccgNxE8JgosdKxKBE31TpnICdn2RBEo1KoiKygo2rQDAOa6Lrs-nwVh1VYQBDj_cFuvsKhc23FFPQLXnu2ec01An6ZPD_SNNUpIJU3QFWhTqY4ilikpyzY2F4hxsWcFZkPX81cyvRxIDmqkCazl70XXBmuXvJRUWJ4nAO0zVlSFbwPxjesY9YQxqI2-CI_pYV5P80koG7xByuOtLC3mo9pUeZdC65R93eCMjGDXP3SUNmuFduzvs8am7N09bHa15uZz-3dWJ07GhTcyr-TuH3kvpt-rcvI9GGwza6hAizABr_46RLiZsVqKSxkao0PNww8AKjkbnA4sJrBdYrtSxRNmHpCvpxQqomLTrTGF38rRTDvIZ6cm24CJD0yn-ann1fd-8LoVS_cakddll-1fLrO_CtUmpQfYnoItnQHVWxM6o_Wr0j9WXa16Kp-uLEYBowHt-RyPsO4AdnaPlb9XJ73WVcZYAdF0THaIoJnqN4SjVcKrFusLSurwcLYf4C0fZBmDXp7xhIhMMcedlsR2j2FRyMFx41vDH53iD2HhFcVYO7vecZ6snAxug7HuIlIPOtWyOJzuJ5fI7uL_gXWH3IxZ5oqKFMwd4DIpqmRs_s1MUbcTtfJU8kprL7GnbTa6aD3B-L-y_R1oQCa_NrwcDvfgz28GuzrhB7z8gSQwetRJkzlm1lV-K2AIEw-lL8jWAtGTTWpiHMS-_UMzL3MzhT5QJJkTUGj45YGcj--Vetcl8D4qeufOxYWOjVpDUPhSCqMY17RItYyDadJIy_eRb9LQdZQhfkdDz6P44h0S-jCHKRJfsOouXaUSpMhSu3OtnVrXBTwtK20yjsfrltawxnm6xG4nPCUBqgr8uAnsDoMuDeyfu-6m-JTeHshCWCpPkpT-GDqY7Y8UVgnH_1Wv8LACz18vXQl-_ilu9V_MwrYlvjTa17CRhoXQ5B8G5vlp0JXcLzTmbQYb2KqX82BOODEuPsZM5oDYhzOpsdRil6NV4GeirjbqHZgtROMpv6zRcfUtX7iwRHFk2gg.uxsQFEN3tp4wm1aGF4zt2g',\n",
       "  'token_type': 'Bearer'}}"
      ]
     },
     "execution_count": 58,
     "metadata": {},
     "output_type": "execute_result"
    }
   ],
   "source": [
    "signed_in.json()"
   ]
  },
  {
   "cell_type": "code",
   "execution_count": null,
   "metadata": {},
   "outputs": [],
   "source": []
  }
 ],
 "metadata": {
  "kernelspec": {
   "display_name": "Python 3.9.2 64-bit ('misc': venv)",
   "language": "python",
   "name": "python392jvsc74a57bd0d15c9a08455980db5dd8807d5339e6958b98b1445af7693925721d5f992afef4"
  },
  "language_info": {
   "name": "python",
   "version": ""
  },
  "orig_nbformat": 4
 },
 "nbformat": 4,
 "nbformat_minor": 2
}