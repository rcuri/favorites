{
 "cells": [
  {
   "cell_type": "code",
   "execution_count": 23,
   "metadata": {},
   "outputs": [],
   "source": [
    "def create_count_hash_table(s):\n",
    "    char_hash = [0] * 26\n",
    "    for char in s:\n",
    "        char_hash[ord(char)-ord('a')] += 1\n",
    "    char_hash.sort()\n",
    "    char_hash = [val for val in char_hash if val != 0]\n",
    "    return char_hash\n",
    "\n",
    "def validate_hash_table(char_hash, acceptable_diffs):\n",
    "    pos = 0\n",
    "    diffs = 0\n",
    "    if len(char_hash) <= 1:\n",
    "        return \"YES\"\n",
    "    elif len(char_hash) == 2:\n",
    "        if abs(char_hash[0] - char_hash[1]) > 1:\n",
    "            return \"NO\"\n",
    "        else:\n",
    "            return \"YES\"\n",
    "    while pos < len(char_hash) - 2:\n",
    "        if char_hash[pos] != char_hash[pos+1] and char_hash[pos+1] != char_hash[pos+2]:\n",
    "            return \"NO\"\n",
    "        elif char_hash[pos] != char_hash[pos+1] and char_hash[pos+1] == char_hash[pos+2]:\n",
    "            if char_hash[pos] - 1 == 0 and diffs < acceptable_diffs:\n",
    "                diffs += 1\n",
    "            elif char_hash[pos] + 1 != char_hash[pos+1]:\n",
    "                return \"NO\"\n",
    "            elif char_hash[pos] + 1 == char_hash[pos+1] and diffs < acceptable_diffs:\n",
    "                diffs += 1\n",
    "            else:\n",
    "                return \"NO\"\n",
    "        elif char_hash[pos] == char_hash[pos+1] and char_hash[pos+1] != char_hash[pos+2]:\n",
    "            if char_hash[pos] + 1 != char_hash[pos+2]:\n",
    "                return \"NO\"\n",
    "            elif char_hash[pos] + 1 == char_hash[pos+2] and diffs < acceptable_diffs:\n",
    "                diffs += 1\n",
    "            else:\n",
    "                return \"NO\"\n",
    "        pos += 1\n",
    "    return \"YES\"    \n",
    "\n",
    "def isValid(s):\n",
    "    filtered_hash_table = create_count_hash_table(s)\n",
    "    acceptable_diffs = 1\n",
    "    return validate_hash_table(filtered_hash_table, acceptable_diffs)"
   ]
  },
  {
   "cell_type": "code",
   "execution_count": 1,
   "metadata": {},
   "outputs": [],
   "source": [
    "import uuid"
   ]
  },
  {
   "cell_type": "code",
   "execution_count": 24,
   "metadata": {},
   "outputs": [
    {
     "name": "stdout",
     "output_type": "stream",
     "text": [
      "[1, 1, 2, 2]\n",
      "1\n",
      "4\n"
     ]
    },
    {
     "data": {
      "text/plain": [
       "'NO'"
      ]
     },
     "execution_count": 24,
     "metadata": {},
     "output_type": "execute_result"
    }
   ],
   "source": [
    "isValid('aabbcd')"
   ]
  },
  {
   "cell_type": "code",
   "execution_count": 1,
   "metadata": {},
   "outputs": [],
   "source": [
    "import boto3\n",
    "dynamodb = boto3.resource('dynamodb')\n",
    "table = dynamodb.Table(\"dev-favorites-favorites-table\")"
   ]
  },
  {
   "cell_type": "code",
   "execution_count": 2,
   "metadata": {},
   "outputs": [],
   "source": [
    "data = {\n",
    "    \"title\": \"New title!\",\n",
    "    \"notes\": \"this is my new note now\",\n",
    "    \"list_description\": \"version 1\",\n",
    "}"
   ]
  },
  {
   "cell_type": "code",
   "execution_count": null,
   "metadata": {},
   "outputs": [],
   "source": [
    "data = {\n",
    "    \"name\": \"LIST#LIST_ID#ROW_1\",\n",
    "    \"attributes\": {\n",
    "        \"content\": \"HEYO\"\n",
    "    }\n",
    "}"
   ]
  },
  {
   "cell_type": "code",
   "execution_count": 3,
   "metadata": {},
   "outputs": [],
   "source": [
    "def buildExpression(data):\n",
    "    pf = 'prefix'\n",
    "    timestamp = int(time.time() * 1000)\n",
    "    data['updatedAt'] = timestamp\n",
    "    vals = {}\n",
    "    exp = 'SET '\n",
    "    attr_names = {}\n",
    "    for key,value in data.items():\n",
    "        vals[':{}'.format(key)] = value\n",
    "        attr_names['#pf_{}'.format(key)] = key\n",
    "        exp += '#pf_{} = :{},'.format(key, key)\n",
    "    exp = exp.rstrip(\",\")\n",
    "    return vals, exp, attr_names"
   ]
  },
  {
   "cell_type": "code",
   "execution_count": 4,
   "metadata": {},
   "outputs": [],
   "source": [
    "import time"
   ]
  },
  {
   "cell_type": "code",
   "execution_count": 5,
   "metadata": {},
   "outputs": [],
   "source": [
    "vals, exp, attr_names = buildExpression(data)"
   ]
  },
  {
   "cell_type": "code",
   "execution_count": null,
   "metadata": {},
   "outputs": [],
   "source": [
    "response = table.update_item(\n",
    "    Key={\n",
    "        \"PK\": \"LIST#\",\n",
    "        \"SK\": \"LIST#\"\n",
    "    },\n",
    "    ConditionExpression=\"attribute_exists(PK)\",\n",
    "    UpdateExpression=exp,\n",
    "    ExpressionAttributeNames=attr_names,\n",
    "    ExpressionAttributeValues=vals\n",
    ")"
   ]
  },
  {
   "cell_type": "code",
   "execution_count": 6,
   "metadata": {},
   "outputs": [
    {
     "data": {
      "text/plain": [
       "{':title': 'New title!',\n",
       " ':notes': 'this is my new note now',\n",
       " ':list_description': 'version 1',\n",
       " ':updatedAt': 1659842372229}"
      ]
     },
     "execution_count": 6,
     "metadata": {},
     "output_type": "execute_result"
    }
   ],
   "source": [
    "vals"
   ]
  },
  {
   "cell_type": "code",
   "execution_count": null,
   "metadata": {},
   "outputs": [],
   "source": []
  }
 ],
 "metadata": {
  "interpreter": {
   "hash": "7d6993cb2f9ce9a59d5d7380609d9cb5192a9dedd2735a011418ad9e827eb538"
  },
  "kernelspec": {
   "display_name": "Python 3.9.2  ('misc': venv)",
   "language": "python",
   "name": "pythonjvsc74a57bd0d15c9a08455980db5dd8807d5339e6958b98b1445af7693925721d5f992afef4"
  },
  "language_info": {
   "name": "python",
   "version": ""
  },
  "orig_nbformat": 4
 },
 "nbformat": 4,
 "nbformat_minor": 2
}