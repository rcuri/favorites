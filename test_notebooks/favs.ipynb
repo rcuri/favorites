{
 "cells": [
  {
   "cell_type": "code",
   "execution_count": 1,
   "metadata": {},
   "outputs": [],
   "source": [
    "import requests\n",
    "import json"
   ]
  },
  {
   "cell_type": "code",
   "execution_count": null,
   "metadata": {},
   "outputs": [],
   "source": [
    "create_list_url = \"https://tedqslk3xj.execute-api.us-east-1.amazonaws.com/dev/create_list\""
   ]
  },
  {
   "cell_type": "code",
   "execution_count": null,
   "metadata": {},
   "outputs": [],
   "source": []
  },
  {
   "cell_type": "code",
   "execution_count": null,
   "metadata": {},
   "outputs": [],
   "source": [
    "fav_list = {\n",
    "    \"title\": \"Favorite Movies\",\n",
    "    \"list\": [\n",
    "        \"The Incredibles\",\n",
    "        \"Coherence\",\n",
    "        \"Pineapple Express\"\n",
    "    ]\n",
    "}"
   ]
  },
  {
   "cell_type": "markdown",
   "metadata": {},
   "source": [
    "# Create List"
   ]
  },
  {
   "cell_type": "code",
   "execution_count": null,
   "metadata": {},
   "outputs": [],
   "source": [
    "def create_list():\n",
    "    body = {\n",
    "        \"title\": \"FIRST LIST\",\n",
    "        \"fav_list\": [],\n",
    "        \"description\": \"this is just a test list i'm making\",\n",
    "        \"notes\": \"dont have many notes atm\",\n",
    "        \"comment\": \"initial commit\"\n",
    "    }\n",
    "    body = json.dumps(body)\n",
    "    url = create_list_url\n",
    "    r = requests.post(url=create_list_url, data=body)\n",
    "    return r"
   ]
  },
  {
   "cell_type": "markdown",
   "metadata": {},
   "source": [
    "# Get all lists for user"
   ]
  },
  {
   "cell_type": "code",
   "execution_count": 16,
   "metadata": {},
   "outputs": [],
   "source": [
    "def update_list_contents(list_id, data):\n",
    "    body = {\n",
    "        \"list_id\": list_id,\n",
    "        \"data\": data\n",
    "    }\n",
    "    body = json.dumps(body)\n",
    "    url = \"https://tedqslk3xj.execute-api.us-east-1.amazonaws.com/dev/update_list_contents\"\n",
    "    r = requests.post(url=url, data=body)\n",
    "    return r"
   ]
  },
  {
   "cell_type": "code",
   "execution_count": 5,
   "metadata": {},
   "outputs": [],
   "source": [
    "def get_all_lists_user(username):\n",
    "    body = {\n",
    "        \"username\": username\n",
    "    }\n",
    "    body = json.dumps(body)\n",
    "    url = \"https://tedqslk3xj.execute-api.us-east-1.amazonaws.com/dev/list_all_lists_per_user\"\n",
    "    r = requests.post(data=body, url=url)\n",
    "    return r"
   ]
  },
  {
   "cell_type": "code",
   "execution_count": null,
   "metadata": {},
   "outputs": [],
   "source": [
    "def get_list_by_id(list_id, token):\n",
    "    body = {\n",
    "        \"list_id\": list_id\n",
    "    }\n",
    "    body = json.dumps(body)\n",
    "    headers = {\n",
    "        \"Authorization\": f\"Bearer {token}\"\n",
    "    }\n",
    "    url = \"https://tedqslk3xj.execute-api.us-east-1.amazonaws.com/dev/get_list_by_list_id\"\n",
    "    r = requests.post(url=url, data=body, headers=headers)\n",
    "    return r"
   ]
  },
  {
   "cell_type": "code",
   "execution_count": 6,
   "metadata": {},
   "outputs": [],
   "source": [
    "returned_list = get_list_by_id(list_id)"
   ]
  },
  {
   "cell_type": "code",
   "execution_count": 7,
   "metadata": {},
   "outputs": [
    {
     "data": {
      "text/plain": [
       "{'message': 'Unauthorized'}"
      ]
     },
     "execution_count": 7,
     "metadata": {},
     "output_type": "execute_result"
    }
   ],
   "source": [
    "returned_list.json()"
   ]
  },
  {
   "cell_type": "code",
   "execution_count": 14,
   "metadata": {},
   "outputs": [],
   "source": [
    "user_lists = get_all_lists_user(\"rodrigocuriel95@gmail.com\")"
   ]
  },
  {
   "cell_type": "code",
   "execution_count": 3,
   "metadata": {},
   "outputs": [],
   "source": [
    "list_id = \"LIST#1382942e-7b62-4926-bd9f-afac8debfd2d\"\n",
    "data = [\n",
    "    {\n",
    "        \"name\": \"LIST\",\n",
    "        \"data\": {\n",
    "            \"comment\": \"Updated content aww yee\"\n",
    "        }\n",
    "    },\n",
    "    {\n",
    "        \"name\": \"LIST#1382942e-7b62-4926-bd9f-afac8debfd2d#ROW_3\",\n",
    "        \"data\": {\n",
    "            \"content\": \"Updated row 3 now\"\n",
    "        }\n",
    "    },\n",
    "    {\n",
    "        \"name\": \"LIST#1382942e-7b62-4926-bd9f-afac8debfd2d#ROW_4\",\n",
    "        \"data\": {\n",
    "            \"content\": \"Updated row 4 back to yeet\"\n",
    "        }\n",
    "    }    \n",
    "]"
   ]
  },
  {
   "cell_type": "code",
   "execution_count": 50,
   "metadata": {},
   "outputs": [],
   "source": [
    "updated_response = update_list_contents(list_id, data)"
   ]
  },
  {
   "cell_type": "code",
   "execution_count": 51,
   "metadata": {},
   "outputs": [
    {
     "data": {
      "text/plain": [
       "{'response': {'ResponseMetadata': {'RequestId': 'SAT92LHCKNFCAP93GRA2MB3FCNVV4KQNSO5AEMVJF66Q9ASUAAJG',\n",
       "   'HTTPStatusCode': 200,\n",
       "   'HTTPHeaders': {'server': 'Server',\n",
       "    'date': 'Tue, 09 Aug 2022 01:34:20 GMT',\n",
       "    'content-type': 'application/x-amz-json-1.0',\n",
       "    'content-length': '2',\n",
       "    'connection': 'keep-alive',\n",
       "    'x-amzn-requestid': 'SAT92LHCKNFCAP93GRA2MB3FCNVV4KQNSO5AEMVJF66Q9ASUAAJG',\n",
       "    'x-amz-crc32': '2745614147'},\n",
       "   'RetryAttempts': 0}}}"
      ]
     },
     "execution_count": 51,
     "metadata": {},
     "output_type": "execute_result"
    }
   ],
   "source": [
    "updated_response.json()"
   ]
  },
  {
   "cell_type": "code",
   "execution_count": null,
   "metadata": {},
   "outputs": [],
   "source": [
    "{':comment': 'Updated content aww yee'}\n",
    "{':comment': 'Updated content aww yee'}\n",
    "{':comment': {\n",
    "    \"S\": 'Updated content aww yee'\n",
    "}}"
   ]
  },
  {
   "cell_type": "code",
   "execution_count": 31,
   "metadata": {},
   "outputs": [],
   "source": [
    "def build_update_expression(data):\n",
    "    pf = 'prefix'\n",
    "    vals = {}\n",
    "    exp = 'SET '\n",
    "    attr_names = {}\n",
    "    for key,value in data.items():\n",
    "        vals[':{}'.format(key)] = {\"S\": value}\n",
    "        attr_names['#pf_{}'.format(key)] = key\n",
    "        exp += '#pf_{} = :{},'.format(key, key)\n",
    "    exp = exp.rstrip(\",\")\n",
    "    return vals, exp, attr_names"
   ]
  },
  {
   "cell_type": "code",
   "execution_count": 32,
   "metadata": {},
   "outputs": [],
   "source": [
    "data = {\n",
    "    \"content\": \"updated content aww yee\"\n",
    "}"
   ]
  },
  {
   "cell_type": "code",
   "execution_count": 33,
   "metadata": {},
   "outputs": [
    {
     "data": {
      "text/plain": [
       "({':content': {'S': 'updated content aww yee'}},\n",
       " 'SET #pf_content = :content',\n",
       " {'#pf_content': 'content'})"
      ]
     },
     "execution_count": 33,
     "metadata": {},
     "output_type": "execute_result"
    }
   ],
   "source": [
    "build_update_expression(data)"
   ]
  },
  {
   "cell_type": "code",
   "execution_count": 15,
   "metadata": {},
   "outputs": [
    {
     "data": {
      "text/plain": [
       "{'response': {'Items': [{'updated_at': 'dont have many notes atm',\n",
       "    'list_size': '10',\n",
       "    'created_at': 'dont have many notes atm',\n",
       "    'descripton': \"this is just a test list i'm making\",\n",
       "    'notes': 'dont have many notes atm',\n",
       "    'visibility': 'PRIVATE',\n",
       "    'SK': 'LIST#1382942e-7b62-4926-bd9f-afac8debfd2d',\n",
       "    'PK': 'rodrigocuriel95@gmail.com',\n",
       "    'title': 'FIRST LIST'},\n",
       "   {'updated_at': 'dont have many notes atm',\n",
       "    'list_size': '10',\n",
       "    'created_at': 'dont have many notes atm',\n",
       "    'descripton': \"this is just a test list i'm making\",\n",
       "    'notes': 'dont have many notes atm',\n",
       "    'visibility': 'PRIVATE',\n",
       "    'SK': 'LIST#bf3d481e-d729-4453-88db-517e73e72e6f',\n",
       "    'PK': 'rodrigocuriel95@gmail.com',\n",
       "    'title': 'FIRST LIST'},\n",
       "   {'updated_at': 'dont have many notes atm',\n",
       "    'list_size': '10',\n",
       "    'created_at': 'dont have many notes atm',\n",
       "    'descripton': \"this is just a test list i'm making\",\n",
       "    'notes': 'dont have many notes atm',\n",
       "    'visibility': 'PRIVATE',\n",
       "    'SK': 'LIST#edcb8652-7bcc-4011-bceb-f7b941744905',\n",
       "    'PK': 'rodrigocuriel95@gmail.com',\n",
       "    'title': 'FIRST LIST'}],\n",
       "  'Count': 3,\n",
       "  'ScannedCount': 3,\n",
       "  'ResponseMetadata': {'RequestId': 'B5NQP44A8EE574D3M6QBSK353FVV4KQNSO5AEMVJF66Q9ASUAAJG',\n",
       "   'HTTPStatusCode': 200,\n",
       "   'HTTPHeaders': {'server': 'Server',\n",
       "    'date': 'Tue, 09 Aug 2022 00:25:26 GMT',\n",
       "    'content-type': 'application/x-amz-json-1.0',\n",
       "    'content-length': '1133',\n",
       "    'connection': 'keep-alive',\n",
       "    'x-amzn-requestid': 'B5NQP44A8EE574D3M6QBSK353FVV4KQNSO5AEMVJF66Q9ASUAAJG',\n",
       "    'x-amz-crc32': '3383502097'},\n",
       "   'RetryAttempts': 0}}}"
      ]
     },
     "execution_count": 15,
     "metadata": {},
     "output_type": "execute_result"
    }
   ],
   "source": [
    "user_lists.json()"
   ]
  },
  {
   "cell_type": "code",
   "execution_count": null,
   "metadata": {},
   "outputs": [],
   "source": [
    "resp = create_list()"
   ]
  },
  {
   "cell_type": "code",
   "execution_count": null,
   "metadata": {},
   "outputs": [],
   "source": [
    "resp.json()"
   ]
  },
  {
   "cell_type": "code",
   "execution_count": 1,
   "metadata": {},
   "outputs": [],
   "source": [
    "import boto3\n",
    "dynamodb = boto3.resource('dynamodb')\n",
    "table = dynamodb.Table(\"dev-favorites-favorites-table\")"
   ]
  },
  {
   "cell_type": "code",
   "execution_count": null,
   "metadata": {},
   "outputs": [],
   "source": [
    "dynamodb = boto3.resource('dynamodb')"
   ]
  },
  {
   "cell_type": "code",
   "execution_count": null,
   "metadata": {},
   "outputs": [],
   "source": [
    "table = dynamodb.Table(\"dev-favorites-favorites-table\")"
   ]
  },
  {
   "cell_type": "code",
   "execution_count": null,
   "metadata": {},
   "outputs": [],
   "source": [
    "client = boto3.client('dynamodb')"
   ]
  },
  {
   "cell_type": "code",
   "execution_count": null,
   "metadata": {},
   "outputs": [],
   "source": [
    "table.query(\n",
    "    KeyConditionExpression='#pk = :pk AND #sk begins_with( sk:sk )',\n",
    "    ExpressionAttributeNames={\n",
    "        \"#pk\": \"PK\",\n",
    "        \"#sk\": \"SK\"\n",
    "    },\n",
    "    ExpressionAttributeValues={\n",
    "        \":pk\": \"LIST#bf3d481e-d729-4453-88db-517e73e72e6f\",\n",
    "        \":sk\": \"LIST#bf3d481e-d729-4453-88db-517e73e72e6f\"\n",
    "    }\n",
    ")"
   ]
  },
  {
   "cell_type": "code",
   "execution_count": 7,
   "metadata": {},
   "outputs": [
    {
     "data": {
      "text/plain": [
       "{'Items': [{'SK': 'USER',\n",
       "   'last_name': 'Curiel',\n",
       "   'PK': 'rodrigocuriel37@gmail.com',\n",
       "   'first_name': 'Rodrigo'}],\n",
       " 'Count': 1,\n",
       " 'ScannedCount': 1,\n",
       " 'ResponseMetadata': {'RequestId': '7HUUS8LO9RJRLRRGDTN86ORUJ7VV4KQNSO5AEMVJF66Q9ASUAAJG',\n",
       "  'HTTPStatusCode': 200,\n",
       "  'HTTPHeaders': {'server': 'Server',\n",
       "   'date': 'Tue, 09 Aug 2022 10:44:13 GMT',\n",
       "   'content-type': 'application/x-amz-json-1.0',\n",
       "   'content-length': '153',\n",
       "   'connection': 'keep-alive',\n",
       "   'x-amzn-requestid': '7HUUS8LO9RJRLRRGDTN86ORUJ7VV4KQNSO5AEMVJF66Q9ASUAAJG',\n",
       "   'x-amz-crc32': '1094384038'},\n",
       "  'RetryAttempts': 0}}"
      ]
     },
     "execution_count": 7,
     "metadata": {},
     "output_type": "execute_result"
    }
   ],
   "source": [
    "table.query(\n",
    "    KeyConditionExpression=Key('PK').eq(\"rodrigocuriel37@gmail.com\") & Key('SK').begins_with(\"USER\")\n",
    ")"
   ]
  },
  {
   "cell_type": "code",
   "execution_count": 4,
   "metadata": {},
   "outputs": [
    {
     "data": {
      "text/plain": [
       "{'Items': [{'updated_at': 'dont have many notes atm',\n",
       "   'list_size': Decimal('10'),\n",
       "   'created_at': 'dont have many notes atm',\n",
       "   'descripton': \"this is just a test list i'm making\",\n",
       "   'notes': 'dont have many notes atm',\n",
       "   'visibility': 'PRIVATE',\n",
       "   'SK': 'LIST#1382942e-7b62-4926-bd9f-afac8debfd2d',\n",
       "   'PK': 'rodrigocuriel95@gmail.com',\n",
       "   'title': 'FIRST LIST'},\n",
       "  {'updated_at': 'dont have many notes atm',\n",
       "   'list_size': Decimal('10'),\n",
       "   'created_at': 'dont have many notes atm',\n",
       "   'descripton': \"this is just a test list i'm making\",\n",
       "   'notes': 'dont have many notes atm',\n",
       "   'visibility': 'PRIVATE',\n",
       "   'SK': 'LIST#bf3d481e-d729-4453-88db-517e73e72e6f',\n",
       "   'PK': 'rodrigocuriel95@gmail.com',\n",
       "   'title': 'FIRST LIST'},\n",
       "  {'updated_at': 'dont have many notes atm',\n",
       "   'list_size': Decimal('10'),\n",
       "   'created_at': 'dont have many notes atm',\n",
       "   'descripton': \"this is just a test list i'm making\",\n",
       "   'notes': 'dont have many notes atm',\n",
       "   'visibility': 'PRIVATE',\n",
       "   'SK': 'LIST#edcb8652-7bcc-4011-bceb-f7b941744905',\n",
       "   'PK': 'rodrigocuriel95@gmail.com',\n",
       "   'title': 'FIRST LIST'}],\n",
       " 'Count': 3,\n",
       " 'ScannedCount': 3,\n",
       " 'ResponseMetadata': {'RequestId': '34RA84QHHPLQ3CBHQIVKGSH0PJVV4KQNSO5AEMVJF66Q9ASUAAJG',\n",
       "  'HTTPStatusCode': 200,\n",
       "  'HTTPHeaders': {'server': 'Server',\n",
       "   'date': 'Tue, 09 Aug 2022 10:43:37 GMT',\n",
       "   'content-type': 'application/x-amz-json-1.0',\n",
       "   'content-length': '1133',\n",
       "   'connection': 'keep-alive',\n",
       "   'x-amzn-requestid': '34RA84QHHPLQ3CBHQIVKGSH0PJVV4KQNSO5AEMVJF66Q9ASUAAJG',\n",
       "   'x-amz-crc32': '3383502097'},\n",
       "  'RetryAttempts': 0}}"
      ]
     },
     "execution_count": 4,
     "metadata": {},
     "output_type": "execute_result"
    }
   ],
   "source": [
    "table.query(\n",
    "    KeyConditionExpression=Key('PK').eq(\"rodrigocuriel95@gmail.com\") & Key('SK').begins_with(\"LIST#\")\n",
    ")"
   ]
  },
  {
   "cell_type": "code",
   "execution_count": null,
   "metadata": {},
   "outputs": [],
   "source": [
    "dir(boto3.dynamodb)"
   ]
  },
  {
   "cell_type": "code",
   "execution_count": null,
   "metadata": {},
   "outputs": [],
   "source": [
    "dir(boto3.dynamodb.transform)"
   ]
  },
  {
   "cell_type": "code",
   "execution_count": 3,
   "metadata": {},
   "outputs": [],
   "source": [
    "from boto3.dynamodb.conditions import Key"
   ]
  },
  {
   "cell_type": "code",
   "execution_count": null,
   "metadata": {},
   "outputs": [],
   "source": [
    "dir(boto3.dynamodb.conditions)"
   ]
  },
  {
   "cell_type": "code",
   "execution_count": null,
   "metadata": {},
   "outputs": [],
   "source": [
    "table.query(\n",
    "    KeyConditionExpression='#pk = :pk'\n",
    ")"
   ]
  },
  {
   "cell_type": "code",
   "execution_count": null,
   "metadata": {},
   "outputs": [],
   "source": [
    "client.list_tables()"
   ]
  },
  {
   "cell_type": "code",
   "execution_count": null,
   "metadata": {},
   "outputs": [],
   "source": []
  }
 ],
 "metadata": {
  "interpreter": {
   "hash": "7d6993cb2f9ce9a59d5d7380609d9cb5192a9dedd2735a011418ad9e827eb538"
  },
  "kernelspec": {
   "display_name": "Python 3.9.2  ('misc': venv)",
   "language": "python",
   "name": "pythonjvsc74a57bd0d15c9a08455980db5dd8807d5339e6958b98b1445af7693925721d5f992afef4"
  },
  "language_info": {
   "codemirror_mode": {
    "name": "ipython",
    "version": 3
   },
   "file_extension": ".py",
   "mimetype": "text/x-python",
   "name": "python",
   "nbconvert_exporter": "python",
   "pygments_lexer": "ipython3",
   "version": "3.9.2"
  },
  "orig_nbformat": 4
 },
 "nbformat": 4,
 "nbformat_minor": 2
}